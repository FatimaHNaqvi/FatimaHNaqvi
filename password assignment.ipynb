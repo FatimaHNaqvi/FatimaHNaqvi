{
 "cells": [
  {
   "cell_type": "code",
   "execution_count": 1,
   "id": "5afad3ad",
   "metadata": {},
   "outputs": [
    {
     "name": "stdout",
     "output_type": "stream",
     "text": [
      "Would you like to add a new password or view the existing  one (Add/view), press q to quit? view\n",
      "fatima|gane\n",
      "fatima|lane\n",
      "Would you like to add a new password or view the existing  one (Add/view), press q to quit? add\n",
      "Account name: hj\n",
      "Account password: k;\n",
      "Would you like to add a new password or view the existing  one (Add/view), press q to quit? view\n",
      "fatima|gane\n",
      "fatima|lane\n",
      "hj|k;\n",
      "Would you like to add a new password or view the existing  one (Add/view), press q to quit? q\n"
     ]
    }
   ],
   "source": [
    "\n",
    "def view():\n",
    "    with open('password.txt','r') as f:\n",
    "        for line in f.readlines():\n",
    "            print(line.rstrip())\n",
    "def add():\n",
    "    name = input(\"Account name: \")\n",
    "    pwd  = input(\"Account password: \")\n",
    "    \n",
    "    with open('password.txt','a') as f:\n",
    "        f.write(name + \"|\" + pwd  + \"\\n\")\n",
    "    \n",
    "while True:\n",
    "    mode = input(\"Would you like to add a new password or view the existing  one (Add/view), press q to quit? \").lower()\n",
    "    if mode == \"q\":\n",
    "        break\n",
    "    if mode == \"view\":\n",
    "        view()\n",
    "    elif mode == \"add\":\n",
    "        add()\n",
    "    else:\n",
    "        print(\"Invalid mode\")\n",
    "        continue\n",
    "\n"
   ]
  },
  {
   "cell_type": "code",
   "execution_count": null,
   "id": "d01f81d4",
   "metadata": {},
   "outputs": [],
   "source": []
  },
  {
   "cell_type": "code",
   "execution_count": null,
   "id": "dd997e27",
   "metadata": {},
   "outputs": [],
   "source": []
  }
 ],
 "metadata": {
  "kernelspec": {
   "display_name": "Python 3",
   "language": "python",
   "name": "python3"
  },
  "language_info": {
   "codemirror_mode": {
    "name": "ipython",
    "version": 3
   },
   "file_extension": ".py",
   "mimetype": "text/x-python",
   "name": "python",
   "nbconvert_exporter": "python",
   "pygments_lexer": "ipython3",
   "version": "3.8.8"
  }
 },
 "nbformat": 4,
 "nbformat_minor": 5
}
