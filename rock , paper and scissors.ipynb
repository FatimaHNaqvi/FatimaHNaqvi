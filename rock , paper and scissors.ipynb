{
 "cells": [
  {
   "cell_type": "code",
   "execution_count": 1,
   "id": "a75a725d",
   "metadata": {},
   "outputs": [],
   "source": [
    "import random\n",
    "user_win=0\n",
    "computer_win=0\n",
    "option=[\"rock\",\"paper\",\"scissors\"]\n"
   ]
  },
  {
   "cell_type": "code",
   "execution_count": 2,
   "id": "f9639440",
   "metadata": {},
   "outputs": [
    {
     "name": "stdout",
     "output_type": "stream",
     "text": [
      "Give Rock,Paper, and Scissors or Q to quit: scissor\n",
      "Give Rock,Paper, and Scissors or Q to quit: scissors\n",
      "computer picks rock .\n",
      "You lost\n",
      "Give Rock,Paper, and Scissors or Q to quit: paper\n",
      "computer picks rock .\n",
      "you win\n",
      "Give Rock,Paper, and Scissors or Q to quit: rock\n",
      "computer picks scissors .\n",
      "you win\n",
      "Give Rock,Paper, and Scissors or Q to quit: rock\n",
      "computer picks rock .\n",
      "Its tie\n",
      "Give Rock,Paper, and Scissors or Q to quit: paper\n",
      "computer picks scissors .\n",
      "You lost\n",
      "Give Rock,Paper, and Scissors or Q to quit: rock\n",
      "computer picks scissors .\n",
      "you win\n",
      "Give Rock,Paper, and Scissors or Q to quit: rock\n",
      "computer picks paper .\n",
      "You lost\n",
      "Give Rock,Paper, and Scissors or Q to quit: q\n",
      "you won 3 times\n",
      "computer won 3 times\n",
      "Goodbye!\n"
     ]
    }
   ],
   "source": [
    "while True:\n",
    "    user_input=input(\"Give Rock,Paper, and Scissors or Q to quit: \").lower()\n",
    "    if user_input == 'q':\n",
    "        break\n",
    "    if user_input not in option:\n",
    "        continue\n",
    "    random_no= random.randint(0,2)\n",
    "    #0 for rock\n",
    "    #1 for paper\n",
    "    #2 for  scissor\n",
    "    computers_choice=option[random_no]\n",
    "    print(\"computer picks\",computers_choice,\".\")\n",
    "    if user_input==\"rock\" and computers_choice==\"scissors\":\n",
    "        print(\"you win\")\n",
    "        user_win += 1\n",
    "    elif user_input==\"scissors\" and computers_choice==\"paper\":\n",
    "        print(\"you win\")\n",
    "        user_win += 1\n",
    "    elif user_input==\"paper\" and computers_choice==\"rock\":\n",
    "        print(\"you win\")\n",
    "        user_win += 1\n",
    "    elif user_input == computers_choice:\n",
    "        print(\"Its tie\")\n",
    "    else:\n",
    "        print(\"You lost\")\n",
    "        computer_win += 1\n",
    "print(\"you won\",user_win,\"times\")        \n",
    "print(\"computer won\",user_win,\"times\")        \n",
    "print(\"Goodbye!\")"
   ]
  },
  {
   "cell_type": "code",
   "execution_count": null,
   "id": "5ae55662",
   "metadata": {},
   "outputs": [],
   "source": []
  }
 ],
 "metadata": {
  "kernelspec": {
   "display_name": "Python 3",
   "language": "python",
   "name": "python3"
  },
  "language_info": {
   "codemirror_mode": {
    "name": "ipython",
    "version": 3
   },
   "file_extension": ".py",
   "mimetype": "text/x-python",
   "name": "python",
   "nbconvert_exporter": "python",
   "pygments_lexer": "ipython3",
   "version": "3.8.8"
  }
 },
 "nbformat": 4,
 "nbformat_minor": 5
}
