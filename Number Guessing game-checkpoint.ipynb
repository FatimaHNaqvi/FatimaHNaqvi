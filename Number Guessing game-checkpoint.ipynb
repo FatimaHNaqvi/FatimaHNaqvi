{
 "cells": [
  {
   "cell_type": "code",
   "execution_count": 1,
   "id": "179e25df",
   "metadata": {},
   "outputs": [],
   "source": [
    "import random\n"
   ]
  },
  {
   "cell_type": "code",
   "execution_count": 2,
   "id": "5a00548b",
   "metadata": {},
   "outputs": [],
   "source": [
    "#r=random.randrange(-5,11) # does not include 11 "
   ]
  },
  {
   "cell_type": "code",
   "execution_count": 3,
   "id": "79bea2c3",
   "metadata": {},
   "outputs": [
    {
     "name": "stdout",
     "output_type": "stream",
     "text": [
      "Enter a number: 8\n"
     ]
    }
   ],
   "source": [
    "top_of_range=input(\"Enter a number: \")\n",
    "if top_of_range.isdigit():\n",
    "    top_of_range=int(top_of_range)\n",
    "    if top_of_range <= 0:\n",
    "        print(\"Please,enter a digit greater than zero next time!\")\n",
    "        quit()\n",
    "else:\n",
    "    print(\"Please,enter a digit  next time!\")\n",
    "    quit()\n",
    "    "
   ]
  },
  {
   "cell_type": "code",
   "execution_count": 4,
   "id": "6ff3de90",
   "metadata": {},
   "outputs": [],
   "source": [
    "random_number=random.randint(0,top_of_range) # includes top_of_ra\n",
    "no_of_guesses = 0"
   ]
  },
  {
   "cell_type": "code",
   "execution_count": 5,
   "id": "f8b71b7e",
   "metadata": {},
   "outputs": [
    {
     "name": "stdout",
     "output_type": "stream",
     "text": [
      "make a guess: h\n",
      "Please,enter a digit  next time!\n",
      "make a guess: 6\n",
      "You guess is lower than the number\n",
      "make a guess: 8\n",
      "You guess is higher than the number\n",
      "make a guess: 7\n",
      "You got it!\n"
     ]
    }
   ],
   "source": [
    "while True:\n",
    "    no_of_guesses += 1\n",
    "    user_guess=input(\"make a guess: \")\n",
    "    if user_guess.isdigit():\n",
    "        user_guess=int(user_guess)\n",
    "    else:\n",
    "        print(\"Please,enter a digit  next time!\")\n",
    "        continue\n",
    "    if user_guess == random_number :\n",
    "        print(\"You got it!\")\n",
    "        break\n",
    "    elif user_guess > random_number :\n",
    "        print(\"You guess is higher than the number\")\n",
    "    else:\n",
    "        print(\"You guess is lower than the number\")\n",
    "       \n",
    "    "
   ]
  },
  {
   "cell_type": "code",
   "execution_count": 6,
   "id": "526a047d",
   "metadata": {},
   "outputs": [
    {
     "name": "stdout",
     "output_type": "stream",
     "text": [
      "You got it in 4 guesses\n"
     ]
    }
   ],
   "source": [
    "print(\"You got it in\", no_of_guesses,\"guesses\")\n"
   ]
  },
  {
   "cell_type": "code",
   "execution_count": null,
   "id": "27d45b30",
   "metadata": {},
   "outputs": [],
   "source": []
  }
 ],
 "metadata": {
  "kernelspec": {
   "display_name": "Python 3",
   "language": "python",
   "name": "python3"
  },
  "language_info": {
   "codemirror_mode": {
    "name": "ipython",
    "version": 3
   },
   "file_extension": ".py",
   "mimetype": "text/x-python",
   "name": "python",
   "nbconvert_exporter": "python",
   "pygments_lexer": "ipython3",
   "version": "3.8.8"
  }
 },
 "nbformat": 4,
 "nbformat_minor": 5
}
