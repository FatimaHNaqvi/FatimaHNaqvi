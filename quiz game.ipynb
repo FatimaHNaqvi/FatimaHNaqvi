{
 "cells": [
  {
   "cell_type": "code",
   "execution_count": 1,
   "id": "30650edf",
   "metadata": {},
   "outputs": [
    {
     "name": "stdout",
     "output_type": "stream",
     "text": [
      "Welcome to my General Knowledge Quiz!\n",
      "Do you want to play? yes\n"
     ]
    }
   ],
   "source": [
    "print(\"Welcome to my General Knowledge Quiz!\")\n",
    "playing = input(\"Do you want to play? \")"
   ]
  },
  {
   "cell_type": "code",
   "execution_count": 2,
   "id": "058ae476",
   "metadata": {},
   "outputs": [
    {
     "name": "stdout",
     "output_type": "stream",
     "text": [
      "Okay! let's Play!\n"
     ]
    }
   ],
   "source": [
    "if playing.lower() == \"yes\":\n",
    "    quit()\n",
    "print(\"Okay! let's Play!\")\n",
    "score=0\n",
    "\n"
   ]
  },
  {
   "cell_type": "code",
   "execution_count": 3,
   "id": "78a70191",
   "metadata": {},
   "outputs": [
    {
     "name": "stdout",
     "output_type": "stream",
     "text": [
      "What does UN stands for?  united nations\n",
      "correct!\n"
     ]
    }
   ],
   "source": [
    "answer= input(\"What does UN stands for?  \")\n",
    "if answer.lower() == \"united nations\":\n",
    "    print(\"correct!\")\n",
    "    score += 1\n",
    "else:\n",
    "    print(\"Incorrect!\")"
   ]
  },
  {
   "cell_type": "code",
   "execution_count": 4,
   "id": "22b57183",
   "metadata": {},
   "outputs": [
    {
     "name": "stdout",
     "output_type": "stream",
     "text": [
      "What's the capital of Japan?  Kathmandu\n",
      "Incorrect!\n"
     ]
    }
   ],
   "source": [
    "answer= input(\"What's the capital of Japan?  \")\n",
    "if answer.lower() == \"tokyo\":\n",
    "    print(\"correct!\")\n",
    "    score += 1\n",
    "else:\n",
    "    print(\"Incorrect!\")"
   ]
  },
  {
   "cell_type": "code",
   "execution_count": 5,
   "id": "964ffb36",
   "metadata": {},
   "outputs": [
    {
     "name": "stdout",
     "output_type": "stream",
     "text": [
      "What's more useful when its broken?  Egg\n",
      "correct!\n"
     ]
    }
   ],
   "source": [
    "answer= input(\"What's more useful when its broken?  \")\n",
    "if answer.lower() == \"egg\":\n",
    "    print(\"correct!\")\n",
    "    score += 1\n",
    "else:\n",
    "    print(\"Incorrect!\")"
   ]
  },
  {
   "cell_type": "code",
   "execution_count": 6,
   "id": "f0f9c56f",
   "metadata": {},
   "outputs": [
    {
     "name": "stdout",
     "output_type": "stream",
     "text": [
      "What is the the factorial of 0?  1\n",
      "correct!\n"
     ]
    }
   ],
   "source": [
    "answer= input(\"What is the the factorial of 0?  \")\n",
    "if answer.lower() == \"1\":\n",
    "    print(\"correct!\")\n",
    "    score += 1\n",
    "else:\n",
    "    print(\"Incorrect!\")"
   ]
  },
  {
   "cell_type": "code",
   "execution_count": 7,
   "id": "d8408448",
   "metadata": {},
   "outputs": [
    {
     "name": "stdout",
     "output_type": "stream",
     "text": [
      "You got 3 questions correct!\n",
      "You got 75.0%\n"
     ]
    }
   ],
   "source": [
    "print(\"You got \" + str(score) + \" questions correct!\")\n",
    "print(\"You got \" + str((score/4)*100) + \"%\")"
   ]
  },
  {
   "cell_type": "code",
   "execution_count": null,
   "id": "b59f92f8",
   "metadata": {},
   "outputs": [],
   "source": []
  }
 ],
 "metadata": {
  "kernelspec": {
   "display_name": "Python 3",
   "language": "python",
   "name": "python3"
  },
  "language_info": {
   "codemirror_mode": {
    "name": "ipython",
    "version": 3
   },
   "file_extension": ".py",
   "mimetype": "text/x-python",
   "name": "python",
   "nbconvert_exporter": "python",
   "pygments_lexer": "ipython3",
   "version": "3.8.8"
  }
 },
 "nbformat": 4,
 "nbformat_minor": 5
}
